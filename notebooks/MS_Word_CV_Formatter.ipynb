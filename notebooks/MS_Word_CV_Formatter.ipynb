{
 "cells": [
  {
   "cell_type": "code",
   "execution_count": 1,
   "id": "69a2dd09-e8e3-44b1-9bd2-b1e916642458",
   "metadata": {},
   "outputs": [],
   "source": [
    "from distutils.log import error\n",
    "from docx import Document\n",
    "from docx.shared import Pt,RGBColor\n",
    "from docx.enum.text import WD_ALIGN_PARAGRAPH\n",
    "from docx.shared import Inches\n",
    "import json,yaml,time\n",
    "\n",
    "# def add_para(document_instance,section,bold=False,italic=False):\n",
    "#     document_instance.add_paragraph(section)\n",
    "    \n",
    "def add_heading(text, level, bold=True, color=(0, 0, 0),align=WD_ALIGN_PARAGRAPH.LEFT):\n",
    "    heading = document.add_heading(text, level=level)\n",
    "    heading.alignment =align\n",
    "    run = heading.runs[0]\n",
    "    run.bold = bold\n",
    "    run.font.color.rgb = RGBColor(*color)\n",
    "    return heading"
   ]
  },
  {
   "cell_type": "code",
   "execution_count": 2,
   "id": "0006d563-f5ac-486e-9faf-c08670c32691",
   "metadata": {},
   "outputs": [],
   "source": [
    "# Create a new Word document.\n",
    "document = Document()\n",
    "\n",
    "# Add a title\n",
    "name = add_heading('YOUR NAME', level=0,bold=True, color=(255, 0, 0))\n",
    "# name.alignment = WD_ALIGN_PARAGRAPH.LEFT\n",
    "\n",
    "contact = add_heading('0422332233,email@gmail.com', level=9,bold=False,align=WD_ALIGN_PARAGRAPH.RIGHT)\n",
    "# contact.alignment = WD_ALIGN_PARAGRAPH.RIGHT\n",
    "\n",
    "\n",
    "# -----------------------\n",
    "\n",
    "# document.add_heading('Heading, level 1', level=1)\n",
    "# document.add_paragraph('Intense quote', style='Intense Quote')\n",
    "\n",
    "# document.add_paragraph(\n",
    "#     'first item in unordered list', style='List Bullet'\n",
    "# )\n",
    "# document.add_paragraph(\n",
    "#     'first item in ordered list', style='List Number'\n",
    "# )\n",
    "\n",
    "# document.add_picture('monty-truth.png', width=Inches(1.25))\n",
    "\n",
    "# document.add_page_break()\n",
    "\n",
    "# -------------------------------------------------\n",
    "\n",
    "# Specify the file path\n",
    "file_path_exp = 'C:/coding/llm-test/attribute-info-llm/resume_experience.yaml'\n",
    "file_path_skill = 'C:/coding/llm-test/attribute-info-llm/resume_skill.yaml'\n",
    "file_path_education = 'C:/coding/llm-test/attribute-info-llm/resume_education.yaml'\n",
    "file_path_projects = 'C:/coding/llm-test/attribute-info-llm/resume_projects.yaml'\n",
    "file_path_awards = 'C:/coding/llm-test/attribute-info-llm/resume_awards.yaml'\n",
    "\n",
    "\n",
    "# Read the JSON file back into a dictionary\n",
    "with open(file_path_exp, 'r') as yaml_file:\n",
    "    exp_details = yaml.safe_load(yaml_file)\n",
    "    \n",
    "# Read the JSON file back into a dictionary\n",
    "with open(file_path_skill, 'r') as yaml_file:\n",
    "    skill_details = yaml.safe_load(yaml_file)\n",
    "    \n",
    "# Read the JSON file back into a dictionary\n",
    "with open(file_path_education, 'r') as yaml_file:\n",
    "    education_details = yaml.safe_load(yaml_file)\n",
    "    \n",
    "# Read the JSON file back into a dictionary\n",
    "with open(file_path_projects, 'r') as yaml_file:\n",
    "    projects_details = yaml.safe_load(yaml_file)\n",
    "    \n",
    "# Read the JSON file back into a dictionary\n",
    "with open(file_path_awards, 'r') as yaml_file:\n",
    "    awards_details = yaml.safe_load(yaml_file)"
   ]
  },
  {
   "cell_type": "code",
   "execution_count": 3,
   "id": "5ee32b56-ea26-40fc-879a-6591f38790e0",
   "metadata": {},
   "outputs": [],
   "source": [
    "level_1_heading_color=(255, 0, 0)"
   ]
  },
  {
   "cell_type": "code",
   "execution_count": 4,
   "id": "aefc085d-0a41-479d-9a13-f4775b19e256",
   "metadata": {},
   "outputs": [],
   "source": [
    "# Add EXPERIENCE section heading\n",
    "exper=add_heading('EXPERIENCE', level=1, bold=True, color=level_1_heading_color)\n",
    "\n",
    "# Iterate through experience details\n",
    "for exp in exp_details[list(exp_details.keys())[0]]:\n",
    "    for k,v in exp.items():\n",
    "\n",
    "        if k.lower().strip() == 'employer':\n",
    "            key = add_heading((k.upper()), level=3,color=(0, 32, 96))\n",
    "\n",
    "            if isinstance(v,list):\n",
    "                for line in v:\n",
    "                    document.add_paragraph(line,style='List Bullet')\n",
    "            else:\n",
    "                run1= key.add_run(f'     {v}')\n",
    "                run1.bold = True\n",
    "                run1.font.color.rgb = RGBColor(0, 0, 0)\n",
    "        else:\n",
    "            key = add_heading((k.upper()), level=3, color=(0, 32, 96))\n",
    "\n",
    "            if isinstance(v,list):\n",
    "                for line in v:\n",
    "                    document.add_paragraph(line,style='List Bullet')\n",
    "            else:\n",
    "                run1= key.add_run(f'     {v}')\n",
    "                run1.bold = False\n",
    "                run1.font.color.rgb = RGBColor(0, 0, 0)\n",
    "            \n",
    "    document.add_paragraph()   # to add empty line\n",
    "\n",
    "# document.add_page_break() # Add Page break after experience"
   ]
  },
  {
   "cell_type": "raw",
   "id": "7c791fbe-8035-40b7-8e57-cb82c4183fb7",
   "metadata": {},
   "source": [
    "# Function to add a styled heading\n",
    "def add_heading(text, level, bold=True, color=(0, 0, 0)):\n",
    "    heading = document.add_heading(text, level=level)\n",
    "    heading.alignment = WD_ALIGN_PARAGRAPH.LEFT\n",
    "    run = heading.runs[0]\n",
    "    run.bold = bold\n",
    "    run.font.color.rgb = RGBColor(*color)\n",
    "    return heading\n",
    "\n",
    "# Function to add a styled paragraph\n",
    "def add_paragraph(text, style='BodyText', bold=False, color=(0, 0, 0), left_indent=None, spacing_before=None,line_spacing=None):\n",
    "    paragraph = document.add_paragraph(text)\n",
    "    run = paragraph.runs[0]\n",
    "    font = run.font\n",
    "    paragraph.style = document.styles[style]\n",
    "    run.bold = bold\n",
    "    font.color.rgb = RGBColor(*color)\n",
    "    \n",
    "    # Set left indentation if specified\n",
    "    if left_indent is not None:\n",
    "        paragraph.paragraph_format.left_indent = Pt(left_indent)\n",
    "    \n",
    "    # Set spacing before if specified\n",
    "    if spacing_before is not None:\n",
    "        paragraph.paragraph_format.space_before = Pt(spacing_before)\n",
    "        \n",
    "    # Set line spacing if specified\n",
    "    if line_spacing is not None:\n",
    "        paragraph.paragraph_format.line_spacing = line_spacing\n",
    "    \n",
    "    return paragraph\n",
    "\n",
    "# # Sample experience details\n",
    "# exp_details = {\n",
    "#     \"Job1\": [\n",
    "#         {\"employer\": \"Company XYZ\", \"position\": \"Software Engineer\", \"duration\": \"Jan 2020 - Present\", \"details\": [\"Responsibility 1\", \"Responsibility 2\"]},\n",
    "#         # Add more job details as needed\n",
    "#     ],\n",
    "#     # Add more job experiences as needed\n",
    "# }\n",
    "\n",
    "# Add EXPERIENCE section heading\n",
    "experience_heading = add_heading('EXPERIENCE:', level=1, bold=True, color=(0, 32, 96))\n",
    "\n",
    "# Iterate through experience details\n",
    "for  exp in exp_details[list(exp_details.keys())[0]]:\n",
    "#     # Add job title as a heading\n",
    "#     job_heading = add_heading(job_title, level=2, bold=True, color=(0, 32, 96))\n",
    "\n",
    "    # Iterate through job details\n",
    "    for k, v in exp.items():\n",
    "        # Add key as a subheading\n",
    "        key_heading = add_heading(k.upper(), level=3, bold=True, color=(0, 32, 96))\n",
    "\n",
    "        # Add details as bullet points if it's a list\n",
    "        if isinstance(v, list):\n",
    "            for line in v:\n",
    "                add_paragraph(line, style='ListBullet',line_spacing=0)\n",
    "\n",
    "        # Add details as a paragraph if it's not a list\n",
    "        else:\n",
    "            add_paragraph(f'    {v}', left_indent=10,line_spacing=None)\n",
    "\n",
    "    document.add_paragraph()   # to add empty line\n",
    "# # Save the document\n",
    "# document.save('professional_resume.docx')"
   ]
  },
  {
   "cell_type": "code",
   "execution_count": 5,
   "id": "58d70450-8b4e-400a-b686-fd1fed189201",
   "metadata": {},
   "outputs": [],
   "source": [
    "# # Open an existing document\n",
    "# doc = Document('resume_test_msword1.docx')\n",
    "\n",
    "# # Access the first paragraph and modify its text and formatting\n",
    "# first_paragraph = doc.paragraphs[0]"
   ]
  },
  {
   "cell_type": "code",
   "execution_count": 6,
   "id": "06996433-9e60-4c4c-b19d-8ecf01ecbd0f",
   "metadata": {},
   "outputs": [
    {
     "data": {
      "text/plain": [
       "{'experience': [{'employer': 'ABC Company',\n",
       "   'title': 'Data Engineer',\n",
       "   'location': 'New York, NY',\n",
       "   'dates': 'January 2018 - Present',\n",
       "   'description': ['Led the development of a robust data ingestion, transformation, and egress framework, resulting in a 30% increase in data processing efficiency',\n",
       "    'Designed and implemented data pipelines using Azure Data Factory and Azure Synapse, improving data management and architecture',\n",
       "    'Developed REST APIs to facilitate seamless data exchange between different platforms, enhancing overall data accessibility and usability',\n",
       "    'Collaborated with cross-functional teams to conduct data profiling, cataloguing, and mapping exercises, ensuring accurate and efficient data processing',\n",
       "    'Utilized strong SQL background to write performant queries and troubleshoot performance issues, optimizing data retrieval and processing']},\n",
       "  {'employer': 'XYZ Corporation',\n",
       "   'title': 'Data Engineering Intern',\n",
       "   'location': 'San Francisco, CA',\n",
       "   'dates': 'May 2017 - December 2017',\n",
       "   'description': ['Assisted in the development of data pipelines and frameworks, gaining hands-on experience in data engineering best practices',\n",
       "    'Contributed to the design and build of APIs for data exchange, acquiring exposure to REST/SOAP protocols and their application in real-world scenarios',\n",
       "    'Participated in data warehousing and data management projects, gaining practical knowledge of data architecture and its business implications']}]}"
      ]
     },
     "execution_count": 6,
     "metadata": {},
     "output_type": "execute_result"
    }
   ],
   "source": [
    "exp_details"
   ]
  },
  {
   "cell_type": "code",
   "execution_count": 7,
   "id": "c2d9265b-c381-47f0-ba03-7b9ed0225c31",
   "metadata": {},
   "outputs": [
    {
     "data": {
      "text/plain": [
       "'experience'"
      ]
     },
     "execution_count": 7,
     "metadata": {},
     "output_type": "execute_result"
    }
   ],
   "source": [
    "list(exp_details.keys())[0]"
   ]
  },
  {
   "cell_type": "code",
   "execution_count": 8,
   "id": "c29bc645-bd1e-41a9-a6c6-29e27a0b029c",
   "metadata": {},
   "outputs": [],
   "source": [
    "# Note use assertion in vs code to check for more than two keys and ky content in list(exp_details.keys())[0]."
   ]
  },
  {
   "cell_type": "code",
   "execution_count": 9,
   "id": "7d8e97b0-606c-4f0b-ac23-b58f9eab7e7d",
   "metadata": {},
   "outputs": [
    {
     "data": {
      "text/plain": [
       "<docx.text.paragraph.Paragraph at 0x2aa41aa9e50>"
      ]
     },
     "execution_count": 9,
     "metadata": {},
     "output_type": "execute_result"
    }
   ],
   "source": [
    "skills = add_heading('SKILLS', level=1,bold=True, color=level_1_heading_color)\n",
    "skills.alignment = WD_ALIGN_PARAGRAPH.LEFT\n",
    "for _,v in skill_details[list(skill_details.keys())[0]].items():\n",
    "    document.add_paragraph(v,style='List Bullet')\n",
    "\n",
    "document.add_paragraph()   # to add empty line"
   ]
  },
  {
   "cell_type": "code",
   "execution_count": 10,
   "id": "3d344b78-231c-4465-a3ed-1cedfbfb363b",
   "metadata": {},
   "outputs": [
    {
     "data": {
      "text/plain": [
       "<docx.text.paragraph.Paragraph at 0x2aa41601580>"
      ]
     },
     "execution_count": 10,
     "metadata": {},
     "output_type": "execute_result"
    }
   ],
   "source": [
    "projects = add_heading('PROJECTS', level=1,bold=True, color=level_1_heading_color)\n",
    "projects.alignment = WD_ALIGN_PARAGRAPH.LEFT\n",
    "for _,v in projects_details[list(projects_details.keys())[0]].items():\n",
    "    document.add_paragraph(v,style='List Bullet')\n",
    "\n",
    "document.add_paragraph()   # to add empty line"
   ]
  },
  {
   "cell_type": "code",
   "execution_count": 11,
   "id": "27e5c3d5-5f3e-4913-84ac-de3c5006be93",
   "metadata": {},
   "outputs": [
    {
     "data": {
      "text/plain": [
       "<docx.text.paragraph.Paragraph at 0x2aa4160cbb0>"
      ]
     },
     "execution_count": 11,
     "metadata": {},
     "output_type": "execute_result"
    }
   ],
   "source": [
    "edu = add_heading('EDUCATION', level=1,bold=True, color=level_1_heading_color)\n",
    "edu.alignment = WD_ALIGN_PARAGRAPH.LEFT\n",
    "for edu in education_details[list(education_details.keys())[0]]:\n",
    "    for k,v in edu.items():\n",
    "        key = add_heading((k.upper()), level=3,color=(0, 32, 96))\n",
    "        key.alignment = WD_ALIGN_PARAGRAPH.LEFT\n",
    "        if isinstance(v,list):\n",
    "            for line in v:\n",
    "                document.add_paragraph(v,style='List Bullet')\n",
    "        else:\n",
    "            run1= key.add_run(f'     {v}')\n",
    "            run1.bold = False\n",
    "            run1.font.color.rgb = RGBColor(0, 0, 0)\n",
    "\n",
    "document.add_paragraph()   # to add empty line"
   ]
  },
  {
   "cell_type": "code",
   "execution_count": 12,
   "id": "fb024878-5126-422c-ade9-894c58696ad7",
   "metadata": {},
   "outputs": [
    {
     "data": {
      "text/plain": [
       "<docx.text.paragraph.Paragraph at 0x2aa4160caf0>"
      ]
     },
     "execution_count": 12,
     "metadata": {},
     "output_type": "execute_result"
    }
   ],
   "source": [
    "awards = add_heading('AWARDS', level=1,bold=True, color=level_1_heading_color)\n",
    "awards.alignment = WD_ALIGN_PARAGRAPH.LEFT\n",
    "for _,v in awards_details[list(awards_details.keys())[0]].items():\n",
    "    document.add_paragraph(v,style='List Bullet')\n",
    "\n",
    "document.add_paragraph()   # to add empty line"
   ]
  },
  {
   "cell_type": "code",
   "execution_count": 13,
   "id": "80c65f27-ac7e-4906-a864-6a036d9d5611",
   "metadata": {},
   "outputs": [],
   "source": [
    "# Add footer\n",
    "footer = document.sections[0].footer\n",
    "paragraph = footer.paragraphs[0]\n",
    "run = paragraph.add_run()\n",
    "run.add_text('Resume - Your Name')\n",
    "run.font.size = Pt(8)  # Adjust the font size if needed8"
   ]
  },
  {
   "cell_type": "code",
   "execution_count": 14,
   "id": "1f29810f-e010-4f11-8c17-27c2383582a0",
   "metadata": {},
   "outputs": [],
   "source": [
    "document.save(f'resume_test_msword_{time.time()}.docx')"
   ]
  },
  {
   "cell_type": "code",
   "execution_count": 15,
   "id": "4a691274-b639-4422-b585-b3c20f5f4e9b",
   "metadata": {},
   "outputs": [],
   "source": [
    "# NOTE: dont change the isntance of run1 and key . Else it shows issues. Please go in detail."
   ]
  },
  {
   "cell_type": "code",
   "execution_count": 16,
   "id": "fcde8e53-cecf-41f9-a301-fc128df0a63d",
   "metadata": {},
   "outputs": [],
   "source": [
    "# We can use this code and paste it in chat gpt with our requirements for formatting.\n",
    "# Use page break wherever needed."
   ]
  }
 ],
 "metadata": {
  "kernelspec": {
   "display_name": "Python 3",
   "language": "python",
   "name": "python3"
  },
  "language_info": {
   "codemirror_mode": {
    "name": "ipython",
    "version": 3
   },
   "file_extension": ".py",
   "mimetype": "text/x-python",
   "name": "python",
   "nbconvert_exporter": "python",
   "pygments_lexer": "ipython3",
   "version": "3.8.8"
  }
 },
 "nbformat": 4,
 "nbformat_minor": 5
}
